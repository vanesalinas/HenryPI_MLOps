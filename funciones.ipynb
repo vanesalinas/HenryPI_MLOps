{
  "cells": [
    {
      "cell_type": "markdown",
      "metadata": {
        "id": "view-in-github",
        "colab_type": "text"
      },
      "source": [
        "<a href=\"https://colab.research.google.com/github/vanesalinas/HenryPI_MLOps/blob/main/funciones.ipynb\" target=\"_parent\"><img src=\"https://colab.research.google.com/assets/colab-badge.svg\" alt=\"Open In Colab\"/></a>"
      ]
    },
    {
      "cell_type": "code",
      "execution_count": 1,
      "metadata": {
        "id": "TRKfeyn2_hBL"
      },
      "outputs": [],
      "source": [
        "import pandas as pd\n",
        "import gzip\n",
        "import json"
      ]
    },
    {
      "cell_type": "code",
      "source": [
        "try:\n",
        "    df_steam_games = pd.read_json('/content/clean_steam_games.json', lines=True)\n",
        "except ValueError as e:\n",
        "    print(f\"Error al leer el archivo JSON: {e}\")"
      ],
      "metadata": {
        "id": "s1_k_ZCT_p1s"
      },
      "execution_count": 2,
      "outputs": []
    },
    {
      "cell_type": "code",
      "source": [
        "df_steam_games = df_steam_games.rename(columns={'id': 'item_id'})"
      ],
      "metadata": {
        "id": "CJHn2gZPTYfE"
      },
      "execution_count": 3,
      "outputs": []
    },
    {
      "cell_type": "code",
      "source": [
        "try:\n",
        "    df_user_reviews = pd.read_json('/content/clean_user_reviews.json', lines=True)\n",
        "except ValueError as e:\n",
        "    print(f\"Error al leer el archivo JSON: {e}\")"
      ],
      "metadata": {
        "id": "N_DERJMoAWAT"
      },
      "execution_count": 10,
      "outputs": []
    },
    {
      "cell_type": "code",
      "source": [
        "try:\n",
        "    df_user_items = pd.read_json('/content/clean_user_items.json', lines=True)\n",
        "except ValueError as e:\n",
        "    print(f\"Error al leer el archivo JSON: {e}\")"
      ],
      "metadata": {
        "id": "vtflltP1AvUj"
      },
      "execution_count": 56,
      "outputs": []
    },
    {
      "cell_type": "code",
      "execution_count": 5,
      "metadata": {
        "id": "Wq_ahc2T_hBl"
      },
      "outputs": [],
      "source": [
        "def developer( desarrollador : str ):\n",
        "    #Transformar la columna \"developer\" y \"price\" en str en letra minuscula\n",
        "    df_steam_games['developer'] = df_steam_games['developer'].astype(str).str.lower()\n",
        "    df_steam_games['price'] = df_steam_games['price'].astype(str).str.lower()\n",
        "    desarrollador.lower()\n",
        "\n",
        "    #Filtrar por desarrollador\n",
        "    developer_df = df_steam_games[df_steam_games['developer'].str.contains(desarrollador, case=False)]\n",
        "\n",
        "    if developer_df.empty:\n",
        "        print(f\"No hay registros para el desarrollador {desarrollador}.\")\n",
        "        return None\n",
        "\n",
        "    estadisticas_desarrolladores = []\n",
        "\n",
        "    for developer, juegos in developer_df.groupby('developer'):\n",
        "        total_juegos = len(juegos)\n",
        "        juegos_free = juegos[juegos['price'].str.contains('free', case=False)]\n",
        "        total_juegos_free = len(juegos_free)\n",
        "\n",
        "        porcentaje_free = (total_juegos_free / total_juegos) * 100 if total_juegos > 0 else 0\n",
        "\n",
        "        estadisticas = {\n",
        "            'desarrollador': developer,\n",
        "            'total_juegos': total_juegos,\n",
        "            'porcentaje_free': porcentaje_free\n",
        "        }\n",
        "\n",
        "        estadisticas_desarrolladores.append(estadisticas)\n",
        "\n",
        "    return estadisticas_desarrolladores"
      ]
    },
    {
      "cell_type": "code",
      "execution_count": 6,
      "metadata": {
        "colab": {
          "base_uri": "https://localhost:8080/"
        },
        "id": "tLypeyY3_hBm",
        "outputId": "02ddbfae-76cb-403e-8df4-6de575e6e850"
      },
      "outputs": [
        {
          "output_type": "execute_result",
          "data": {
            "text/plain": [
              "[{'desarrollador': 'korovkin nikita,filatov igor,lagunov roman,kristian shatov',\n",
              "  'total_juegos': 1,\n",
              "  'porcentaje_free': 0.0},\n",
              " {'desarrollador': 'nikita', 'total_juegos': 2, 'porcentaje_free': 0.0},\n",
              " {'desarrollador': 'nikita \"ghost_rus\"',\n",
              "  'total_juegos': 9,\n",
              "  'porcentaje_free': 0.0},\n",
              " {'desarrollador': 'nikita \"ghost_rus\",underanger thegachiwarrior',\n",
              "  'total_juegos': 2,\n",
              "  'porcentaje_free': 0.0},\n",
              " {'desarrollador': 'nikita kaf', 'total_juegos': 2, 'porcentaje_free': 50.0},\n",
              " {'desarrollador': 'nikita markin,artem basko',\n",
              "  'total_juegos': 1,\n",
              "  'porcentaje_free': 0.0},\n",
              " {'desarrollador': 'nikita nefedov',\n",
              "  'total_juegos': 1,\n",
              "  'porcentaje_free': 0.0},\n",
              " {'desarrollador': 'nikita online',\n",
              "  'total_juegos': 4,\n",
              "  'porcentaje_free': 75.0}]"
            ]
          },
          "metadata": {},
          "execution_count": 6
        }
      ],
      "source": [
        "developer('nikita')"
      ]
    },
    {
      "cell_type": "code",
      "execution_count": null,
      "metadata": {
        "id": "LOLZnOLi_hBn"
      },
      "outputs": [],
      "source": [
        "def userdata( User_id : str ):\n",
        "    '''\n",
        "    Calcula cantidad de dinero gastado por el usuario, el porcentaje de recomendación en base a reviews.recommend y cantidad de items\n",
        "\n",
        "    Parametros\n",
        "    ----------\n",
        "    User_id : str\n",
        "\n",
        "    Retorno\n",
        "    -------\n",
        "    {\"Usuario X\" : nombre de usuario, \"Dinero gastado\": x USD, \"% de recomendación\": x%, \"cantidad de items\": x}\n",
        "\n",
        "    '''\n",
        "\n",
        "    return"
      ]
    },
    {
      "cell_type": "code",
      "execution_count": null,
      "metadata": {
        "id": "q79gSElD_hBo"
      },
      "outputs": [],
      "source": [
        "def UserForGenre( genero : str ):\n",
        "    '''\n",
        "    Devuelve el usuario que acumula más horas jugadas para el género dado y una lista de la acumulación de horas jugadas por año de lanzamiento.\n",
        "\n",
        "    Parametros\n",
        "    ----------\n",
        "    genero : str\n",
        "\n",
        "    Retorno\n",
        "    -------\n",
        "    {\"Usuario con más horas jugadas para Género X\" : nombre de usuario, \"Horas jugadas\":[{Año: x1, Horas: n}, {Año: x2, Horas: n2}, {Año: x3, Horas: n3}]}\n",
        "\n",
        "    '''\n",
        "    genero.lower()\n",
        "    df_steam_games['genres'] = df_steam_games['genres'].astype(str).str.lower()\n",
        "\n",
        "    # Fusionar los DataFrames por item_id\n",
        "    merged_df = pd.merge(df_steam_games, df_user_items, how='inner', on='item_id')\n",
        "\n",
        "    # Filtrar por el desarrollador buscado\n",
        "    genero_df = merged_df[merged_df['genres'].str.contains(genero, case=False)]\n",
        "\n",
        "    if genero_df.empty:\n",
        "        print(f\"No hay registros para el desarrollador {genero}.\")\n",
        "        return None\n",
        "\n",
        "    # Encontrar el usuario con más horas jugadas para el género dado\n",
        "    usuario_mas_horas = genero_df.loc[genero_df['playtime_forever'].idxmax()]['user_id']\n",
        "\n",
        "    # Calcular la acumulación de horas jugadas por año de lanzamiento\n",
        "    acumulacion_horas = genero_df.groupby('release_date')['playtime_forever'].sum().reset_index()\n",
        "    acumulacion_horas = acumulacion_horas.rename(columns={'release_date': 'Año', 'playtime_forever': 'Horas'})\n",
        "\n",
        "    # Crear el diccionario de retorno\n",
        "    resultado_hs = {\n",
        "        f\"Usuario con más horas jugadas para {genero}\": usuario_mas_horas,\n",
        "        \"Horas jugadas\": acumulacion_horas.to_dict(orient='records')\n",
        "    }\n",
        "\n",
        "    return resultado_hs"
      ]
    },
    {
      "cell_type": "code",
      "source": [
        "UserForGenre('adventure')"
      ],
      "metadata": {
        "id": "AN_nHLUqsPXV"
      },
      "execution_count": null,
      "outputs": []
    },
    {
      "cell_type": "code",
      "execution_count": 27,
      "metadata": {
        "id": "SVEev0LX_hBp"
      },
      "outputs": [],
      "source": [
        "def best_developer_year( año : int ):\n",
        "    '''\n",
        "    Devuelve el top 3 de desarrolladores con juegos MÁS recomendados por usuarios para el año dado. (reviews.recommend = True y comentarios positivos)\n",
        "\n",
        "    Parametros\n",
        "    ----------\n",
        "    año : int\n",
        "\n",
        "    Retorno\n",
        "    -------\n",
        "    [{\"Puesto x1\" : X}, {\"Puesto x2\" : Y},{\"Puesto x3\" : Z}]\n",
        "\n",
        "    '''\n",
        "    #convertir la columna release_date en datetime\n",
        "    df_steam_games['release_date'] = pd.to_datetime(df_steam_games['release_date'], errors='coerce')\n",
        "\n",
        "    # Filtrar juegos para el año dado\n",
        "    fecha = df_steam_games[df_steam_games['release_date'].dt.year == año]\n",
        "\n",
        "    # Filtrar reseñas positivas y recomendadas\n",
        "    recomendaciones = df_user_reviews[(df_user_reviews['sentiment_analysis'] == 2) & df_user_reviews['recommend' == True]]\n",
        "\n",
        "    # Fusionar los DataFrames por el ID del juego\n",
        "    merged_df = pd.merge(recomendaciones, fecha, how='inner', left_on='item_id', right_on='id')\n",
        "\n",
        "    # Agrupar por desarrollador y contar las reseñas\n",
        "    top_desarrolladores = merged_df.groupby('developer').size().reset_index(name='total_reseñas')\n",
        "\n",
        "    # Ordenar en orden descendente y tomar los primeros 3\n",
        "    top_desarrolladores = top_desarrolladores.sort_values(by='total_reseñas', ascending=False).head(3)\n",
        "\n",
        "    # Crear la lista de resultados en el formato solicitado\n",
        "    resultados = [{\"Puesto x{}\".format(i+1): desarrollador} for i, desarrollador in enumerate(top_desarrolladores['developer'])]\n",
        "\n",
        "    return resultados"
      ]
    },
    {
      "cell_type": "code",
      "source": [
        "best_developer_year(2018)"
      ],
      "metadata": {
        "id": "cseRLUPovk98",
        "outputId": "6de661c6-4ea4-4556-dd04-c188e5b4534f",
        "colab": {
          "base_uri": "https://localhost:8080/",
          "height": 598
        }
      },
      "execution_count": 28,
      "outputs": [
        {
          "output_type": "error",
          "ename": "KeyError",
          "evalue": "False",
          "traceback": [
            "\u001b[0;31m---------------------------------------------------------------------------\u001b[0m",
            "\u001b[0;31mKeyError\u001b[0m                                  Traceback (most recent call last)",
            "\u001b[0;32m/usr/local/lib/python3.10/dist-packages/pandas/core/indexes/base.py\u001b[0m in \u001b[0;36mget_loc\u001b[0;34m(self, key, method, tolerance)\u001b[0m\n\u001b[1;32m   3801\u001b[0m             \u001b[0;32mtry\u001b[0m\u001b[0;34m:\u001b[0m\u001b[0;34m\u001b[0m\u001b[0;34m\u001b[0m\u001b[0m\n\u001b[0;32m-> 3802\u001b[0;31m                 \u001b[0;32mreturn\u001b[0m \u001b[0mself\u001b[0m\u001b[0;34m.\u001b[0m\u001b[0m_engine\u001b[0m\u001b[0;34m.\u001b[0m\u001b[0mget_loc\u001b[0m\u001b[0;34m(\u001b[0m\u001b[0mcasted_key\u001b[0m\u001b[0;34m)\u001b[0m\u001b[0;34m\u001b[0m\u001b[0;34m\u001b[0m\u001b[0m\n\u001b[0m\u001b[1;32m   3803\u001b[0m             \u001b[0;32mexcept\u001b[0m \u001b[0mKeyError\u001b[0m \u001b[0;32mas\u001b[0m \u001b[0merr\u001b[0m\u001b[0;34m:\u001b[0m\u001b[0;34m\u001b[0m\u001b[0;34m\u001b[0m\u001b[0m\n",
            "\u001b[0;32m/usr/local/lib/python3.10/dist-packages/pandas/_libs/index.pyx\u001b[0m in \u001b[0;36mpandas._libs.index.IndexEngine.get_loc\u001b[0;34m()\u001b[0m\n",
            "\u001b[0;32m/usr/local/lib/python3.10/dist-packages/pandas/_libs/index.pyx\u001b[0m in \u001b[0;36mpandas._libs.index.IndexEngine.get_loc\u001b[0;34m()\u001b[0m\n",
            "\u001b[0;32mpandas/_libs/hashtable_class_helper.pxi\u001b[0m in \u001b[0;36mpandas._libs.hashtable.PyObjectHashTable.get_item\u001b[0;34m()\u001b[0m\n",
            "\u001b[0;32mpandas/_libs/hashtable_class_helper.pxi\u001b[0m in \u001b[0;36mpandas._libs.hashtable.PyObjectHashTable.get_item\u001b[0;34m()\u001b[0m\n",
            "\u001b[0;31mKeyError\u001b[0m: False",
            "\nThe above exception was the direct cause of the following exception:\n",
            "\u001b[0;31mKeyError\u001b[0m                                  Traceback (most recent call last)",
            "\u001b[0;32m<ipython-input-28-82ed5674afe4>\u001b[0m in \u001b[0;36m<cell line: 1>\u001b[0;34m()\u001b[0m\n\u001b[0;32m----> 1\u001b[0;31m \u001b[0mbest_developer_year\u001b[0m\u001b[0;34m(\u001b[0m\u001b[0;36m2018\u001b[0m\u001b[0;34m)\u001b[0m\u001b[0;34m\u001b[0m\u001b[0;34m\u001b[0m\u001b[0m\n\u001b[0m",
            "\u001b[0;32m<ipython-input-27-e35f8b9f4bfd>\u001b[0m in \u001b[0;36mbest_developer_year\u001b[0;34m(año)\u001b[0m\n\u001b[1;32m     19\u001b[0m \u001b[0;34m\u001b[0m\u001b[0m\n\u001b[1;32m     20\u001b[0m     \u001b[0;31m# Filtrar reseñas positivas y recomendadas\u001b[0m\u001b[0;34m\u001b[0m\u001b[0;34m\u001b[0m\u001b[0m\n\u001b[0;32m---> 21\u001b[0;31m     \u001b[0mrecomendaciones\u001b[0m \u001b[0;34m=\u001b[0m \u001b[0mdf_user_reviews\u001b[0m\u001b[0;34m[\u001b[0m\u001b[0;34m(\u001b[0m\u001b[0mdf_user_reviews\u001b[0m\u001b[0;34m[\u001b[0m\u001b[0;34m'sentiment_analysis'\u001b[0m\u001b[0;34m]\u001b[0m \u001b[0;34m==\u001b[0m \u001b[0;36m2\u001b[0m\u001b[0;34m)\u001b[0m \u001b[0;34m&\u001b[0m \u001b[0mdf_user_reviews\u001b[0m\u001b[0;34m[\u001b[0m\u001b[0;34m'recommend'\u001b[0m \u001b[0;34m==\u001b[0m \u001b[0;32mTrue\u001b[0m\u001b[0;34m]\u001b[0m\u001b[0;34m]\u001b[0m\u001b[0;34m\u001b[0m\u001b[0;34m\u001b[0m\u001b[0m\n\u001b[0m\u001b[1;32m     22\u001b[0m \u001b[0;34m\u001b[0m\u001b[0m\n\u001b[1;32m     23\u001b[0m     \u001b[0;31m# Fusionar los DataFrames por el ID del juego\u001b[0m\u001b[0;34m\u001b[0m\u001b[0;34m\u001b[0m\u001b[0m\n",
            "\u001b[0;32m/usr/local/lib/python3.10/dist-packages/pandas/core/frame.py\u001b[0m in \u001b[0;36m__getitem__\u001b[0;34m(self, key)\u001b[0m\n\u001b[1;32m   3805\u001b[0m             \u001b[0;32mif\u001b[0m \u001b[0mself\u001b[0m\u001b[0;34m.\u001b[0m\u001b[0mcolumns\u001b[0m\u001b[0;34m.\u001b[0m\u001b[0mnlevels\u001b[0m \u001b[0;34m>\u001b[0m \u001b[0;36m1\u001b[0m\u001b[0;34m:\u001b[0m\u001b[0;34m\u001b[0m\u001b[0;34m\u001b[0m\u001b[0m\n\u001b[1;32m   3806\u001b[0m                 \u001b[0;32mreturn\u001b[0m \u001b[0mself\u001b[0m\u001b[0;34m.\u001b[0m\u001b[0m_getitem_multilevel\u001b[0m\u001b[0;34m(\u001b[0m\u001b[0mkey\u001b[0m\u001b[0;34m)\u001b[0m\u001b[0;34m\u001b[0m\u001b[0;34m\u001b[0m\u001b[0m\n\u001b[0;32m-> 3807\u001b[0;31m             \u001b[0mindexer\u001b[0m \u001b[0;34m=\u001b[0m \u001b[0mself\u001b[0m\u001b[0;34m.\u001b[0m\u001b[0mcolumns\u001b[0m\u001b[0;34m.\u001b[0m\u001b[0mget_loc\u001b[0m\u001b[0;34m(\u001b[0m\u001b[0mkey\u001b[0m\u001b[0;34m)\u001b[0m\u001b[0;34m\u001b[0m\u001b[0;34m\u001b[0m\u001b[0m\n\u001b[0m\u001b[1;32m   3808\u001b[0m             \u001b[0;32mif\u001b[0m \u001b[0mis_integer\u001b[0m\u001b[0;34m(\u001b[0m\u001b[0mindexer\u001b[0m\u001b[0;34m)\u001b[0m\u001b[0;34m:\u001b[0m\u001b[0;34m\u001b[0m\u001b[0;34m\u001b[0m\u001b[0m\n\u001b[1;32m   3809\u001b[0m                 \u001b[0mindexer\u001b[0m \u001b[0;34m=\u001b[0m \u001b[0;34m[\u001b[0m\u001b[0mindexer\u001b[0m\u001b[0;34m]\u001b[0m\u001b[0;34m\u001b[0m\u001b[0;34m\u001b[0m\u001b[0m\n",
            "\u001b[0;32m/usr/local/lib/python3.10/dist-packages/pandas/core/indexes/base.py\u001b[0m in \u001b[0;36mget_loc\u001b[0;34m(self, key, method, tolerance)\u001b[0m\n\u001b[1;32m   3802\u001b[0m                 \u001b[0;32mreturn\u001b[0m \u001b[0mself\u001b[0m\u001b[0;34m.\u001b[0m\u001b[0m_engine\u001b[0m\u001b[0;34m.\u001b[0m\u001b[0mget_loc\u001b[0m\u001b[0;34m(\u001b[0m\u001b[0mcasted_key\u001b[0m\u001b[0;34m)\u001b[0m\u001b[0;34m\u001b[0m\u001b[0;34m\u001b[0m\u001b[0m\n\u001b[1;32m   3803\u001b[0m             \u001b[0;32mexcept\u001b[0m \u001b[0mKeyError\u001b[0m \u001b[0;32mas\u001b[0m \u001b[0merr\u001b[0m\u001b[0;34m:\u001b[0m\u001b[0;34m\u001b[0m\u001b[0;34m\u001b[0m\u001b[0m\n\u001b[0;32m-> 3804\u001b[0;31m                 \u001b[0;32mraise\u001b[0m \u001b[0mKeyError\u001b[0m\u001b[0;34m(\u001b[0m\u001b[0mkey\u001b[0m\u001b[0;34m)\u001b[0m \u001b[0;32mfrom\u001b[0m \u001b[0merr\u001b[0m\u001b[0;34m\u001b[0m\u001b[0;34m\u001b[0m\u001b[0m\n\u001b[0m\u001b[1;32m   3805\u001b[0m             \u001b[0;32mexcept\u001b[0m \u001b[0mTypeError\u001b[0m\u001b[0;34m:\u001b[0m\u001b[0;34m\u001b[0m\u001b[0;34m\u001b[0m\u001b[0m\n\u001b[1;32m   3806\u001b[0m                 \u001b[0;31m# If we have a listlike key, _check_indexing_error will raise\u001b[0m\u001b[0;34m\u001b[0m\u001b[0;34m\u001b[0m\u001b[0m\n",
            "\u001b[0;31mKeyError\u001b[0m: False"
          ]
        }
      ]
    },
    {
      "cell_type": "code",
      "execution_count": 11,
      "metadata": {
        "id": "Y089VKXi_hBq"
      },
      "outputs": [],
      "source": [
        "def developer_reviews_analysis( desarrolladora : str ):\n",
        "    '''\n",
        "    Según el desarrollador, se devuelve un diccionario con el nombre del desarrollador como llave y una lista con la cantidad total de registros de reseñas de usuarios que se encuentren categorizados con un análisis de sentimiento como valor positivo o negativo.\n",
        "\n",
        "    Parametros\n",
        "    ----------\n",
        "    desarrolladora : str\n",
        "\n",
        "    Retorno\n",
        "    -------\n",
        "    {'desarrollador x' : [Negative = x1, Positive = x2]}\n",
        "\n",
        "    '''\n",
        "    desarrolladora.lower()\n",
        "    df_steam_games['developer'] = df_steam_games['developer'].astype(str).str.lower()\n",
        "\n",
        "    # Fusionar los DataFrames por item_id\n",
        "    merged_df = pd.merge(df_steam_games, df_user_reviews, how='inner', on='item_id')\n",
        "\n",
        "    # Filtrar por el desarrollador buscado\n",
        "    desarrolladora_df = merged_df[merged_df['developer'].str.contains(desarrolladora, case=False)]\n",
        "\n",
        "    if desarrolladora_df.empty:\n",
        "        print(f\"No hay registros para el desarrollador {desarrolladora}.\")\n",
        "        return None\n",
        "\n",
        "    #contar la cantidad de reseñas\n",
        "    for developer in desarrolladora_df.groupby('developer'):\n",
        "        cantidad_positivas = (desarrolladora_df['sentiment_analysis'] == 2).sum()\n",
        "        cantidad_negativas = (desarrolladora_df['sentiment_analysis'] == 0).sum()\n",
        "\n",
        "        resultado = {\n",
        "            'positivas': cantidad_positivas,\n",
        "            'negativas': cantidad_negativas\n",
        "        }\n",
        "\n",
        "    return {desarrolladora: [f\"{key} = {value}\" for key, value in resultado.items()]}"
      ]
    },
    {
      "cell_type": "code",
      "source": [
        "developer_reviews_analysis('nikita')"
      ],
      "metadata": {
        "colab": {
          "base_uri": "https://localhost:8080/"
        },
        "id": "G6jMTAjESCes",
        "outputId": "c704318c-5f4c-4291-8575-1c8bc1b5d3f4"
      },
      "execution_count": 12,
      "outputs": [
        {
          "output_type": "execute_result",
          "data": {
            "text/plain": [
              "{'nikita': ['positivas = 3', 'negativas = 0']}"
            ]
          },
          "metadata": {},
          "execution_count": 12
        }
      ]
    }
  ],
  "metadata": {
    "kernelspec": {
      "display_name": "Python 3",
      "language": "python",
      "name": "python3"
    },
    "language_info": {
      "codemirror_mode": {
        "name": "ipython",
        "version": 3
      },
      "file_extension": ".py",
      "mimetype": "text/x-python",
      "name": "python",
      "nbconvert_exporter": "python",
      "pygments_lexer": "ipython3",
      "version": "3.11.4"
    },
    "colab": {
      "provenance": [],
      "include_colab_link": true
    }
  },
  "nbformat": 4,
  "nbformat_minor": 0
}