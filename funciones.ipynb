{
  "cells": [
    {
      "cell_type": "markdown",
      "metadata": {
        "colab_type": "text",
        "id": "view-in-github"
      },
      "source": [
        "<a href=\"https://colab.research.google.com/github/vanesalinas/HenryPI_MLOps/blob/main/funciones.ipynb\" target=\"_parent\"><img src=\"https://colab.research.google.com/assets/colab-badge.svg\" alt=\"Open In Colab\"/></a>"
      ]
    },
    {
      "cell_type": "code",
      "execution_count": 1,
      "metadata": {
        "id": "TRKfeyn2_hBL"
      },
      "outputs": [],
      "source": [
        "import pandas as pd"
      ]
    },
    {
      "cell_type": "code",
      "execution_count": 2,
      "metadata": {
        "id": "s1_k_ZCT_p1s"
      },
      "outputs": [],
      "source": [
        "try:\n",
        "    df_steam_games = pd.read_json('./Datasets/clean_steam_games.json', lines=True)\n",
        "except ValueError as e:\n",
        "    print(f\"Error al leer el archivo JSON: {e}\")\n",
        "\n",
        "df_steam_games = df_steam_games.rename(columns={'id': 'item_id'})"
      ]
    },
    {
      "cell_type": "code",
      "execution_count": 3,
      "metadata": {},
      "outputs": [
        {
          "name": "stdout",
          "output_type": "stream",
          "text": [
            "Los siguientes registros no tienen formato de fecha en la columna 'release_date':\n",
            "                                                  genres           app_name  \\\n",
            "9        'Action', 'Indie', 'Simulation', 'Early Access'    Uncanny Islands   \n",
            "34                                            'Strategy'     United Tactics   \n",
            "35     'Indie', 'Massively Multiplayer', 'RPG', 'Earl...       Life of Rome   \n",
            "36     'Adventure', 'Free to Play', 'RPG', 'Early Acc...     Idle Adventure   \n",
            "235                                 'Adventure', 'Indie'   Blueberry Garden   \n",
            "...                                                  ...                ...   \n",
            "28635                        'Action', 'Casual', 'Indie'           BOMBFEST   \n",
            "28637          'Action', 'Casual', 'Indie', 'Simulation'   Lonely Astronaut   \n",
            "28638     'Action', 'Adventure', 'Indie', 'Early Access'  RECHARGE COMPLETE   \n",
            "28647                                  'Action', 'Indie'         Tetrapulse   \n",
            "28669  'Casual', 'Indie', 'Simulation', 'Sports', 'Ea...       Cricket Club   \n",
            "\n",
            "      release_date price  item_id                      developer  \n",
            "9              NaT  None   768570                        Qucheza  \n",
            "34             NaT  None   662570               Zachary M Thomas  \n",
            "35             NaT  None   381620                Breakout Studio  \n",
            "36             NaT  None   714020       zha7,Phaedruns,Yingke Wu  \n",
            "235            NaT  4.99    29160                   Erik Svedäng  \n",
            "...            ...   ...      ...                            ...  \n",
            "28635          NaT  None   729640              The BOMBFEST Team  \n",
            "28637          NaT  None   755830  Greyson Richey,Nicholas Lives  \n",
            "28638          NaT  None   708070               rechargecomplete  \n",
            "28647          NaT  None   250440                    The Amiable  \n",
            "28669          NaT  None   772180                        VersoVR  \n",
            "\n",
            "[303 rows x 6 columns]\n"
          ]
        }
      ],
      "source": [
        "# Convierte la columna 'release_date' a tipo datetime\n",
        "df_steam_games['release_date'] = pd.to_datetime(df_steam_games['release_date'], errors='coerce')\n",
        "\n",
        "# Encuentra los registros que no pudieron convertirse correctamente a formato de fecha\n",
        "registros_sin_fecha = df_steam_games[df_steam_games['release_date'].isnull()]\n",
        "\n",
        "if registros_sin_fecha.empty:\n",
        "    print(\"Todos los registros tienen formato de fecha en la columna 'release_date'.\")\n",
        "else:\n",
        "    print(\"Los siguientes registros no tienen formato de fecha en la columna 'release_date':\")\n",
        "    print(registros_sin_fecha)"
      ]
    },
    {
      "cell_type": "code",
      "execution_count": 4,
      "metadata": {},
      "outputs": [],
      "source": [
        "# Elimina los registros con NaT en la columna 'release_date'\n",
        "df_steam_games = df_steam_games.dropna(subset=['release_date'])"
      ]
    },
    {
      "cell_type": "code",
      "execution_count": 5,
      "metadata": {
        "id": "N_DERJMoAWAT"
      },
      "outputs": [],
      "source": [
        "try:\n",
        "    df_user_reviews = pd.read_json('./Datasets/clean_user_reviews.json', lines=True)\n",
        "except ValueError as e:\n",
        "    print(f\"Error al leer el archivo JSON: {e}\")"
      ]
    },
    {
      "cell_type": "code",
      "execution_count": 6,
      "metadata": {
        "id": "vtflltP1AvUj"
      },
      "outputs": [],
      "source": [
        "try:\n",
        "    df_user_items = pd.read_json('./Datasets/clean_user_items.json', lines=True)\n",
        "except ValueError as e:\n",
        "    print(f\"Error al leer el archivo JSON: {e}\")"
      ]
    },
    {
      "cell_type": "code",
      "execution_count": 36,
      "metadata": {
        "id": "Wq_ahc2T_hBl"
      },
      "outputs": [],
      "source": [
        "def developer( desarrollador : str ):\n",
        "    #Transformar la columna \"developer\" y \"price\" en str en letra minuscula\n",
        "    df_steam_games['developer'] = df_steam_games['developer'].astype(str).str.lower()\n",
        "    df_steam_games['price'] = df_steam_games['price'].astype(str).str.lower()\n",
        "    desarrollador.lower()\n",
        "\n",
        "    #Filtrar por desarrollador\n",
        "    developer_df = df_steam_games[df_steam_games['developer'].str.contains(desarrollador, case=False)]\n",
        "\n",
        "    if developer_df.empty:\n",
        "        print(f\"No hay registros para el desarrollador {desarrollador}.\")\n",
        "        return None\n",
        "\n",
        "    estadisticas_desarrolladores = []\n",
        "\n",
        "    for developer, juegos in developer_df.groupby('developer'):\n",
        "        total_juegos = len(juegos)\n",
        "        juegos_free = juegos[juegos['price'].str.contains('free', case=False)]\n",
        "        total_juegos_free = len(juegos_free)\n",
        "\n",
        "        porcentaje_free = (total_juegos_free / total_juegos) * 100 if total_juegos > 0 else 0\n",
        "\n",
        "        estadisticas = {\n",
        "            'desarrollador': developer,\n",
        "            'total_juegos': total_juegos,\n",
        "            'porcentaje_free': porcentaje_free\n",
        "        }\n",
        "\n",
        "        estadisticas_desarrolladores.append(estadisticas)\n",
        "\n",
        "    return estadisticas_desarrolladores"
      ]
    },
    {
      "cell_type": "code",
      "execution_count": 37,
      "metadata": {
        "colab": {
          "base_uri": "https://localhost:8080/"
        },
        "id": "tLypeyY3_hBm",
        "outputId": "02ddbfae-76cb-403e-8df4-6de575e6e850"
      },
      "outputs": [
        {
          "data": {
            "text/plain": [
              "[{'desarrollador': 'korovkin nikita,filatov igor,lagunov roman,kristian shatov',\n",
              "  'total_juegos': 1,\n",
              "  'porcentaje_free': 0.0},\n",
              " {'desarrollador': 'nikita', 'total_juegos': 2, 'porcentaje_free': 0.0},\n",
              " {'desarrollador': 'nikita \"ghost_rus\"',\n",
              "  'total_juegos': 9,\n",
              "  'porcentaje_free': 0.0},\n",
              " {'desarrollador': 'nikita \"ghost_rus\",underanger thegachiwarrior',\n",
              "  'total_juegos': 2,\n",
              "  'porcentaje_free': 0.0},\n",
              " {'desarrollador': 'nikita kaf', 'total_juegos': 2, 'porcentaje_free': 50.0},\n",
              " {'desarrollador': 'nikita markin,artem basko',\n",
              "  'total_juegos': 1,\n",
              "  'porcentaje_free': 0.0},\n",
              " {'desarrollador': 'nikita nefedov',\n",
              "  'total_juegos': 1,\n",
              "  'porcentaje_free': 0.0},\n",
              " {'desarrollador': 'nikita online',\n",
              "  'total_juegos': 4,\n",
              "  'porcentaje_free': 75.0}]"
            ]
          },
          "execution_count": 37,
          "metadata": {},
          "output_type": "execute_result"
        }
      ],
      "source": [
        "developer('nikita')"
      ]
    },
    {
      "cell_type": "code",
      "execution_count": 17,
      "metadata": {
        "id": "LOLZnOLi_hBn"
      },
      "outputs": [],
      "source": [
        "def userdata( User_id : str ):\n",
        "    '''\n",
        "    Calcula cantidad de dinero gastado por el usuario, el porcentaje de recomendación en base a reviews.recommend y cantidad de items\n",
        "\n",
        "    Parametros\n",
        "    ----------\n",
        "    User_id : str\n",
        "\n",
        "    Retorno\n",
        "    -------\n",
        "    {\"Usuario X\" : nombre de usuario, \"Dinero gastado\": x USD, \"% de recomendación\": x%, \"cantidad de items\": x}\n",
        "\n",
        "    '''\n",
        "\n",
        "    # Unir los dataframes usando 'item_id' como clave\n",
        "    df_merged = pd.merge(df_steam_games, df_user_reviews, on='item_id')\n",
        "\n",
        "    # Filtrar juegos comprados por el usuario\n",
        "    juegos_comprados = df_merged[df_merged['user_id'] == User_id].copy()\n",
        "\n",
        "    # Convertir la columna 'price' a tipo cadena\n",
        "    juegos_comprados['price'] = juegos_comprados['price'].astype(str)\n",
        "    # Reemplazar \"free\" o \"Free\" en la columna 'price' por 0\n",
        "    juegos_comprados.loc[juegos_comprados['price'].str.contains(r'(?i)\\bfree\\b'), 'price'] = 0\n",
        "    # Convertir la columna 'price' a tipo float para poder sumar los valores\n",
        "    juegos_comprados['price'] = juegos_comprados['price'].astype(float)\n",
        "    \n",
        "    # Convertir la columna 'price' a tipo numérico\n",
        "    juegos_comprados['price'] = pd.to_numeric(juegos_comprados['price'], errors='coerce')\n",
        "\n",
        "    # Calcular dinero gastado por el usuario\n",
        "    dinero_gastado = round(juegos_comprados['price'].sum(), 2)\n",
        "\n",
        "    # Calcular el porcentaje de recomendación\n",
        "    total_reviews = juegos_comprados.shape[0]\n",
        "    reviews_recomendadas = juegos_comprados[juegos_comprados['recommend'] == True].shape[0]\n",
        "    porcentaje_recomendacion = (reviews_recomendadas / total_reviews) * 100 if total_reviews > 0 else 0\n",
        "\n",
        "    # Calcular cantidad de items\n",
        "    cantidad_items = juegos_comprados.shape[0]\n",
        "\n",
        "    return {\n",
        "        \"Usuario\": User_id,\n",
        "        \"Dinero gastado\": f\"{dinero_gastado} USD\",\n",
        "        \"% de recomendación\": f\"{porcentaje_recomendacion}%\",\n",
        "        \"Cantidad de items\": cantidad_items\n",
        "    }"
      ]
    },
    {
      "cell_type": "code",
      "execution_count": 18,
      "metadata": {},
      "outputs": [
        {
          "data": {
            "text/plain": [
              "{'Usuario': 'js41637',\n",
              " 'Dinero gastado': '29.98 USD',\n",
              " '% de recomendación': '100.0%',\n",
              " 'Cantidad de items': 2}"
            ]
          },
          "execution_count": 18,
          "metadata": {},
          "output_type": "execute_result"
        }
      ],
      "source": [
        "userdata('js41637')"
      ]
    },
    {
      "cell_type": "code",
      "execution_count": 49,
      "metadata": {
        "id": "q79gSElD_hBo"
      },
      "outputs": [],
      "source": [
        "def UserForGenre( genero : str ):\n",
        "    '''\n",
        "    Devuelve el usuario que acumula más horas jugadas para el género dado y una lista de la acumulación de horas jugadas por año de lanzamiento.\n",
        "\n",
        "    Parametros\n",
        "    ----------\n",
        "    genero : str\n",
        "\n",
        "    Retorno\n",
        "    -------\n",
        "    {\"Usuario con más horas jugadas para Género X\" : nombre de usuario, \"Horas jugadas\":[{Año: x1, Horas: n}, {Año: x2, Horas: n2}, {Año: x3, Horas: n3}]}\n",
        "\n",
        "    '''\n",
        "    genero.lower()\n",
        "    df_steam_games['genres'] = df_steam_games['genres'].astype(str).str.lower()\n",
        "\n",
        "    # Filtrar el DataFrame df_steam_games por el género dado\n",
        "    df_filtered = df_steam_games[df_steam_games['genres'].str.contains(genero, na=False)].copy()\n",
        "        \n",
        "    # Extraer el año de lanzamiento\n",
        "    df_filtered['release_year'] = df_filtered['release_date'].dt.year\n",
        "        \n",
        "    # Combinar los DataFrames utilizando 'item_id'\n",
        "    df_combined = pd.merge(df_user_items, df_filtered, on='item_id', how='inner')\n",
        "        \n",
        "    # Obtener el usuario con más horas jugadas para el género dado\n",
        "    usuario_max_horas = df_combined.groupby('user_id')['playtime_forever'].sum().idxmax()\n",
        "        \n",
        "    # Obtener las horas jugadas por el usuario con más horas jugadas\\n\",\n",
        "    horas_usuario_max = df_combined[df_combined['user_id'] == usuario_max_horas]['playtime_forever'].sum()\n",
        "        \n",
        "    #renombrar columnas\n",
        "    df_combined = df_combined.rename(columns={'release_year': 'Año', 'playtime_forever': 'Horas Jugadas'})\n",
        "        \n",
        "    # Agrupar por año de lanzamiento y sumar las horas jugadas\\n\",\n",
        "    horas_por_año = df_combined.groupby('Año')['Horas Jugadas'].sum().reset_index()\n",
        "        \n",
        "    return {\n",
        "        \"Usuario con más horas jugadas para \" + genero: usuario_max_horas,\n",
        "        \"Horas jugadas\": horas_por_año.to_dict(orient='records'),\n",
        "        \"Horas totales jugadas por el usuario\": horas_usuario_max\n",
        "    }"
      ]
    },
    {
      "cell_type": "code",
      "execution_count": 50,
      "metadata": {
        "id": "AN_nHLUqsPXV"
      },
      "outputs": [
        {
          "data": {
            "text/plain": [
              "{'Usuario con más horas jugadas para adventure': 'REBAS_AS_F-T',\n",
              " 'Horas jugadas': [{'Año': 1983, 'Horas Jugadas': 3473},\n",
              "  {'Año': 1984, 'Horas Jugadas': 384},\n",
              "  {'Año': 1987, 'Horas Jugadas': 7712},\n",
              "  {'Año': 1988, 'Horas Jugadas': 29963},\n",
              "  {'Año': 1989, 'Horas Jugadas': 9311},\n",
              "  {'Año': 1990, 'Horas Jugadas': 5492},\n",
              "  {'Año': 1991, 'Horas Jugadas': 1722},\n",
              "  {'Año': 1992, 'Horas Jugadas': 23795},\n",
              "  {'Año': 1993, 'Horas Jugadas': 46772},\n",
              "  {'Año': 1994, 'Horas Jugadas': 15890},\n",
              "  {'Año': 1995, 'Horas Jugadas': 10026},\n",
              "  {'Año': 1996, 'Horas Jugadas': 104199},\n",
              "  {'Año': 1997, 'Horas Jugadas': 324405},\n",
              "  {'Año': 1998, 'Horas Jugadas': 176987},\n",
              "  {'Año': 1999, 'Horas Jugadas': 7735},\n",
              "  {'Año': 2000, 'Horas Jugadas': 105121},\n",
              "  {'Año': 2001, 'Horas Jugadas': 50619},\n",
              "  {'Año': 2002, 'Horas Jugadas': 184447},\n",
              "  {'Año': 2003, 'Horas Jugadas': 5189429},\n",
              "  {'Año': 2004, 'Horas Jugadas': 96149},\n",
              "  {'Año': 2005, 'Horas Jugadas': 206433},\n",
              "  {'Año': 2006, 'Horas Jugadas': 203976},\n",
              "  {'Año': 2007, 'Horas Jugadas': 399173},\n",
              "  {'Año': 2008, 'Horas Jugadas': 3272129},\n",
              "  {'Año': 2009, 'Horas Jugadas': 6766513},\n",
              "  {'Año': 2010, 'Horas Jugadas': 24901044},\n",
              "  {'Año': 2011, 'Horas Jugadas': 221553010},\n",
              "  {'Año': 2012, 'Horas Jugadas': 73391379},\n",
              "  {'Año': 2013, 'Horas Jugadas': 150223870},\n",
              "  {'Año': 2014, 'Horas Jugadas': 67205486},\n",
              "  {'Año': 2015, 'Horas Jugadas': 180446126},\n",
              "  {'Año': 2016, 'Horas Jugadas': 61888425},\n",
              "  {'Año': 2017, 'Horas Jugadas': 92832682},\n",
              "  {'Año': 2018, 'Horas Jugadas': 21}],\n",
              " 'Horas totales jugadas por el usuario': 2175305}"
            ]
          },
          "execution_count": 50,
          "metadata": {},
          "output_type": "execute_result"
        }
      ],
      "source": [
        "UserForGenre('adventure')"
      ]
    },
    {
      "cell_type": "code",
      "execution_count": 62,
      "metadata": {
        "id": "SVEev0LX_hBp"
      },
      "outputs": [],
      "source": [
        "def best_developer_year( año : int ):\n",
        "    '''\n",
        "    Devuelve el top 3 de desarrolladores con juegos MÁS recomendados por usuarios para el año dado. (reviews.recommend = True y comentarios positivos)\n",
        "\n",
        "    Parametros\n",
        "    ----------\n",
        "    año : int\n",
        "\n",
        "    Retorno\n",
        "    -------\n",
        "    [{\"Puesto x1\" : X}, {\"Puesto x2\" : Y},{\"Puesto x3\" : Z}]\n",
        "\n",
        "    '''\n",
        "    # Unir los DataFrames en función de la columna 'item_id'\n",
        "    df_completo = pd.merge(df_steam_games, df_user_reviews, on='item_id', how='inner')\n",
        "\n",
        "    # Filtrar los juegos por el año especificado\n",
        "    juegos_del_año = df_completo[df_completo['release_date'].dt.year == año]\n",
        "\n",
        "    # Filtrar los juegos recomendados y los comentarios positivos\n",
        "    juegos_recomendados = juegos_del_año[juegos_del_año['recommend'] == True]\n",
        "    comentarios_positivos = juegos_del_año[juegos_del_año['sentiment_analysis'] == 2]\n",
        "\n",
        "    # Calcular la suma de recomendaciones y comentarios positivos por desarrollador\n",
        "    recomendaciones_por_desarrollador = juegos_recomendados.groupby('developer').size()\n",
        "    comentarios_por_desarrollador = comentarios_positivos.groupby('developer').size()\n",
        "\n",
        "    # Calcular la puntuación total por desarrollador sumando recomendaciones y comentarios positivos\n",
        "    puntuacion_por_desarrollador = recomendaciones_por_desarrollador.add(comentarios_por_desarrollador, fill_value=0)\n",
        "\n",
        "    # Seleccionar los tres primeros desarrolladores con la puntuación más alta\n",
        "    top_3_desarrolladores = puntuacion_por_desarrollador.nlargest(3)\n",
        "\n",
        "    # Crear la lista de retorno en el formato especificado\n",
        "    retorno = [{\"Puesto {}: {}\".format(i+1, desarrollador): puntuacion} for i, (desarrollador, puntuacion) in enumerate(top_3_desarrolladores.items())]\n",
        "\n",
        "    if top_3_desarrolladores.empty:\n",
        "        print(f\"No hay registros para el año {año}.\")\n",
        "        return None\n",
        "    \n",
        "    return retorno\n"
      ]
    },
    {
      "cell_type": "code",
      "execution_count": 63,
      "metadata": {
        "colab": {
          "base_uri": "https://localhost:8080/",
          "height": 598
        },
        "id": "cseRLUPovk98",
        "outputId": "6de661c6-4ea4-4556-dd04-c188e5b4534f"
      },
      "outputs": [
        {
          "data": {
            "text/plain": [
              "[{'Puesto 1: firaxis games,aspyr (mac, linux)': 546.0},\n",
              " {'Puesto 2: taleworlds entertainment': 339.0},\n",
              " {'Puesto 3: obsidian entertainment': 287.0}]"
            ]
          },
          "execution_count": 63,
          "metadata": {},
          "output_type": "execute_result"
        }
      ],
      "source": [
        "best_developer_year(2010)"
      ]
    },
    {
      "cell_type": "code",
      "execution_count": 52,
      "metadata": {
        "id": "Y089VKXi_hBq"
      },
      "outputs": [],
      "source": [
        "def developer_reviews_analysis( desarrolladora : str ):\n",
        "    '''\n",
        "    Según el desarrollador, se devuelve un diccionario con el nombre del desarrollador como llave y una lista con la cantidad total de registros de reseñas de usuarios que se encuentren categorizados con un análisis de sentimiento como valor positivo o negativo.\n",
        "\n",
        "    Parametros\n",
        "    ----------\n",
        "    desarrolladora : str\n",
        "\n",
        "    Retorno\n",
        "    -------\n",
        "    {'desarrollador x' : [Negative = x1, Positive = x2]}\n",
        "\n",
        "    '''\n",
        "    desarrolladora.lower()\n",
        "    df_steam_games['developer'] = df_steam_games['developer'].astype(str).str.lower()\n",
        "\n",
        "    # Fusionar los DataFrames por item_id\n",
        "    merged_df = pd.merge(df_steam_games, df_user_reviews, how='inner', on='item_id')\n",
        "\n",
        "    # Filtrar por el desarrollador buscado\n",
        "    desarrolladora_df = merged_df[merged_df['developer'].str.contains(desarrolladora, case=False)]\n",
        "\n",
        "    if desarrolladora_df.empty:\n",
        "        print(f\"No hay registros para el desarrollador {desarrolladora}.\")\n",
        "        return None\n",
        "\n",
        "    #contar la cantidad de reseñas\n",
        "    for developer in desarrolladora_df.groupby('developer'):\n",
        "        cantidad_positivas = (desarrolladora_df['sentiment_analysis'] == 2).sum()\n",
        "        cantidad_negativas = (desarrolladora_df['sentiment_analysis'] == 0).sum()\n",
        "\n",
        "        resultado = {\n",
        "            'positivas': cantidad_positivas,\n",
        "            'negativas': cantidad_negativas\n",
        "        }\n",
        "\n",
        "    return {desarrolladora: [f\"{key} = {value}\" for key, value in resultado.items()]}"
      ]
    },
    {
      "cell_type": "code",
      "execution_count": 53,
      "metadata": {
        "colab": {
          "base_uri": "https://localhost:8080/"
        },
        "id": "G6jMTAjESCes",
        "outputId": "c704318c-5f4c-4291-8575-1c8bc1b5d3f4"
      },
      "outputs": [
        {
          "data": {
            "text/plain": [
              "{'nikita': ['positivas = 3', 'negativas = 0']}"
            ]
          },
          "execution_count": 53,
          "metadata": {},
          "output_type": "execute_result"
        }
      ],
      "source": [
        "developer_reviews_analysis('nikita')"
      ]
    }
  ],
  "metadata": {
    "colab": {
      "include_colab_link": true,
      "provenance": []
    },
    "kernelspec": {
      "display_name": "Python 3",
      "language": "python",
      "name": "python3"
    },
    "language_info": {
      "codemirror_mode": {
        "name": "ipython",
        "version": 3
      },
      "file_extension": ".py",
      "mimetype": "text/x-python",
      "name": "python",
      "nbconvert_exporter": "python",
      "pygments_lexer": "ipython3",
      "version": "3.11.4"
    }
  },
  "nbformat": 4,
  "nbformat_minor": 0
}
