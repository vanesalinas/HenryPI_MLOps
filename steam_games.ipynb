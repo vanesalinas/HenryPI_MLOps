{
  "cells": [
    {
      "cell_type": "markdown",
      "metadata": {
        "id": "view-in-github",
        "colab_type": "text"
      },
      "source": [
        "<a href=\"https://colab.research.google.com/github/vanesalinas/HenryPI_MLOps/blob/main/steam_games.ipynb\" target=\"_parent\"><img src=\"https://colab.research.google.com/assets/colab-badge.svg\" alt=\"Open In Colab\"/></a>"
      ]
    },
    {
      "cell_type": "code",
      "execution_count": 2,
      "metadata": {
        "id": "TRKfeyn2_hBL"
      },
      "outputs": [],
      "source": [
        "import pandas as pd\n",
        "import gzip\n",
        "import json"
      ]
    },
    {
      "cell_type": "code",
      "source": [
        "try:\n",
        "    df_steam_games = pd.read_json('/content/clean_steam_games.json', lines=True)\n",
        "except ValueError as e:\n",
        "    print(f\"Error al leer el archivo JSON: {e}\")"
      ],
      "metadata": {
        "id": "s1_k_ZCT_p1s"
      },
      "execution_count": 9,
      "outputs": []
    },
    {
      "cell_type": "code",
      "source": [
        "try:\n",
        "    df_user_reviews = pd.read_json('/content/clean_user_reviews.json', lines=True)\n",
        "except ValueError as e:\n",
        "    print(f\"Error al leer el archivo JSON: {e}\")"
      ],
      "metadata": {
        "id": "N_DERJMoAWAT"
      },
      "execution_count": 10,
      "outputs": []
    },
    {
      "cell_type": "code",
      "source": [
        "try:\n",
        "    df_user_items = pd.read_json('/content/clean_user_items.json', lines=True)\n",
        "except ValueError as e:\n",
        "    print(f\"Error al leer el archivo JSON: {e}\")"
      ],
      "metadata": {
        "id": "vtflltP1AvUj",
        "outputId": "d63e0663-09cf-46fe-fe84-94bdcf6c4f3b",
        "colab": {
          "base_uri": "https://localhost:8080/"
        }
      },
      "execution_count": 7,
      "outputs": [
        {
          "output_type": "stream",
          "name": "stdout",
          "text": [
            "Error al leer el archivo JSON: Unmatched ''\"' when when decoding 'string'\n"
          ]
        }
      ]
    },
    {
      "cell_type": "code",
      "execution_count": 50,
      "metadata": {
        "id": "Wq_ahc2T_hBl"
      },
      "outputs": [],
      "source": [
        "def developer( desarrollador : str ):\n",
        "    #Transformar la columna \"developer\" y \"price\" en str en letra minuscula\n",
        "    df_steam_games['developer'] = df_steam_games['developer'].astype(str).str.lower()\n",
        "    df_steam_games['price'] = df_steam_games['price'].astype(str).str.lower()\n",
        "    desarrollador.lower()\n",
        "\n",
        "    #Filtrar por desarrollador\n",
        "    developer_df = df_steam_games[df_steam_games['developer'].str.contains(desarrollador, case=False)]\n",
        "\n",
        "    if developer_df.empty:\n",
        "        print(f\"No hay registros para el desarrollador {desarrollador}.\")\n",
        "        return None\n",
        "\n",
        "    estadisticas_desarrolladores = []\n",
        "\n",
        "    for developer, juegos in developer_df.groupby('developer'):\n",
        "        total_juegos = len(juegos)\n",
        "        juegos_free = juegos[juegos['price'].str.contains('free', case=False)]\n",
        "        total_juegos_free = len(juegos_free)\n",
        "\n",
        "        porcentaje_free = (total_juegos_free / total_juegos) * 100 if total_juegos > 0 else 0\n",
        "\n",
        "        estadisticas = {\n",
        "            'desarrollador': desarrollador,\n",
        "            'total_juegos': total_juegos,\n",
        "            'porcentaje_free': porcentaje_free\n",
        "        }\n",
        "\n",
        "        estadisticas_desarrolladores.append(estadisticas)\n",
        "\n",
        "        return estadisticas_desarrolladores"
      ]
    },
    {
      "cell_type": "code",
      "execution_count": 51,
      "metadata": {
        "id": "tLypeyY3_hBm",
        "outputId": "245cf88a-8452-4249-c147-c65ba678fd8e",
        "colab": {
          "base_uri": "https://localhost:8080/"
        }
      },
      "outputs": [
        {
          "output_type": "execute_result",
          "data": {
            "text/plain": [
              "[{'desarrollador': 'nikita', 'total_juegos': 1, 'porcentaje_free': 0.0}]"
            ]
          },
          "metadata": {},
          "execution_count": 51
        }
      ],
      "source": [
        "developer('nikita')"
      ]
    },
    {
      "cell_type": "code",
      "execution_count": null,
      "metadata": {
        "id": "LOLZnOLi_hBn"
      },
      "outputs": [],
      "source": [
        "def userdata( User_id : str ):\n",
        "    '''\n",
        "    Calcula cantidad de dinero gastado por el usuario, el porcentaje de recomendación en base a reviews.recommend y cantidad de items\n",
        "\n",
        "    Parametros\n",
        "    ----------\n",
        "    User_id : str\n",
        "\n",
        "    Retorno\n",
        "    -------\n",
        "    {\"Usuario X\" : nombre de usuario, \"Dinero gastado\": x USD, \"% de recomendación\": x%, \"cantidad de items\": x}\n",
        "\n",
        "    '''\n",
        "\n",
        "    return"
      ]
    },
    {
      "cell_type": "code",
      "execution_count": null,
      "metadata": {
        "id": "q79gSElD_hBo"
      },
      "outputs": [],
      "source": [
        "def UserForGenre( genero : str ):\n",
        "    '''\n",
        "    Devuelve el usuario que acumula más horas jugadas para el género dado y una lista de la acumulación de horas jugadas por año de lanzamiento.\n",
        "\n",
        "    Parametros\n",
        "    ----------\n",
        "    genero : str\n",
        "\n",
        "    Retorno\n",
        "    -------\n",
        "    {\"Usuario con más horas jugadas para Género X\" : nombre de usuario, \"Horas jugadas\":[{Año: x1, Horas: n}, {Año: x2, Horas: n2}, {Año: x3, Horas: n3}]}\n",
        "\n",
        "    '''\n",
        "\n",
        "    return"
      ]
    },
    {
      "cell_type": "code",
      "execution_count": null,
      "metadata": {
        "id": "SVEev0LX_hBp"
      },
      "outputs": [],
      "source": [
        "def best_developer_year( año : int ):\n",
        "    '''\n",
        "    Devuelve el top 3 de desarrolladores con juegos MÁS recomendados por usuarios para el año dado. (reviews.recommend = True y comentarios positivos)\n",
        "\n",
        "    Parametros\n",
        "    ----------\n",
        "    año : int\n",
        "\n",
        "    Retorno\n",
        "    -------\n",
        "    [{\"Puesto x1\" : X}, {\"Puesto x2\" : Y},{\"Puesto x3\" : Z}]\n",
        "\n",
        "    '''\n",
        "\n",
        "    return"
      ]
    },
    {
      "cell_type": "code",
      "execution_count": null,
      "metadata": {
        "id": "Y089VKXi_hBq"
      },
      "outputs": [],
      "source": [
        "def developer_reviews_analysis( desarrolladora : str ):\n",
        "    '''\n",
        "    Según el desarrollador, se devuelve un diccionario con el nombre del desarrollador como llave y una lista con la cantidad total de registros de reseñas de usuarios que se encuentren categorizados con un análisis de sentimiento como valor positivo o negativo.\n",
        "\n",
        "    Parametros\n",
        "    ----------\n",
        "    desarrolladora : str\n",
        "\n",
        "    Retorno\n",
        "    -------\n",
        "    {'desarrollador x' : [Negative = x1, Positive = x2]}\n",
        "\n",
        "    '''\n",
        "\n",
        "    return"
      ]
    }
  ],
  "metadata": {
    "kernelspec": {
      "display_name": "Python 3",
      "language": "python",
      "name": "python3"
    },
    "language_info": {
      "codemirror_mode": {
        "name": "ipython",
        "version": 3
      },
      "file_extension": ".py",
      "mimetype": "text/x-python",
      "name": "python",
      "nbconvert_exporter": "python",
      "pygments_lexer": "ipython3",
      "version": "3.11.4"
    },
    "colab": {
      "provenance": [],
      "include_colab_link": true
    }
  },
  "nbformat": 4,
  "nbformat_minor": 0
}